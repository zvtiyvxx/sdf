{
 "cells": [
  {
   "cell_type": "markdown",
   "id": "307ef713-6e3a-411a-95ff-ebd18baa5198",
   "metadata": {},
   "source": [
    "# ПРАКТИЧЕСКАЯ РАБОТА № 2 (Вариант 8)\n",
    "***\n",
    "## Расчет условной энтропии дискретных сообщений, передаваемых по каналу связи с помехами\n",
    "---"
   ]
  },
  {
   "cell_type": "markdown",
   "id": "323eb4ce-d77b-4d73-b728-7b0223bdd1df",
   "metadata": {},
   "source": [
    "**Цель работы:** приобрести умение определять условную энтропию, энтропию объединения и информационные потери для дискретных сообщений, передаваемых по каналу связи, в котором присутствуют помехи."
   ]
  },
  {
   "cell_type": "markdown",
   "id": "60a94b23-faed-41c6-be38-b6748be3eb24",
   "metadata": {},
   "source": [
    "### Ход работы:\n",
    "---"
   ]
  },
  {
   "cell_type": "markdown",
   "id": "c670fb1b-9de1-4cc0-b653-9afb783ae973",
   "metadata": {},
   "source": [
    "#### **1.** Зададим частоты появления символов на выходе канала, число случаев передачи и вероятности появления этих символов"
   ]
  },
  {
   "cell_type": "code",
   "execution_count": 2,
   "id": "369c4c40-641b-4537-ae1a-a4ec38021df3",
   "metadata": {},
   "outputs": [],
   "source": [
    "# Число случаев передачи\n",
    "count = 150\n",
    "\n",
    "# Частоты появления символов\n",
    "s = {\n",
    "    1: [148, 0, 2, 0],\n",
    "    2: [0, 147, 1, 2],\n",
    "    3: [1, 0, 149, 0],\n",
    "    4: [0, 3, 1, 146]\n",
    "    }\n",
    "\n",
    "ps = {\n",
    "    1: 0.40,\n",
    "    2: 0.31,\n",
    "    3: 0.19,\n",
    "    4: 0.10\n",
    "}"
   ]
  },
  {
   "cell_type": "code",
   "execution_count": null,
   "id": "8eb18544-1813-494b-951a-ba8618febf55",
   "metadata": {
    "jupyter": {
     "source_hidden": true
    }
   },
   "outputs": [],
   "source": [
    "## Вывод на экран\n",
    "from IPython.display import display, Markdown\n",
    "\n",
    "ps_md = r'$\\begin{array}{lcl}' + f\"p(s_1)={ps[1]} \\\\\\\\ p(s_2)={ps[2]} \\\\\\\\ p(s_3)={ps[3]} \\\\\\\\ p(s_4)={ps[4]}\" + r' \\end{array}$'\n",
    "\n",
    "output = f\"\"\"\n",
    "Пусть при передаче сообщений по каналу связи с шумами была получена следующая статистика: \n",
    "при передаче $s_1$: символ $s_1$ из {count} раз был принят {s[1][0]} раз, {s[1][2]} раза был принят символ $s_3$;\n",
    "при передаче $s_2$: {s[2][1]} раз был принят $s_2$, {s[2][2]} раза – $s_3$ и {s[2][3]} раз – символ $s_4$; \n",
    "при передаче $s_3$: {s[3][0]} раз был принят $s_1$, и {s[3][2]} раза – $s_3$;\n",
    "при передаче $s_4$ {s[4][1]} раз был принят $s_2$, {s[4][2]} раз – $s_3$ и {s[4][3]} раза – $s_4$;. Вероятности появления этих сим-\n",
    "волов в передаваемых сообщениях соответственно равны:\n",
    "\n",
    "{ps_md}\n",
    "\"\"\"\n",
    "display(Markdown(output))"
   ]
  },
  {
   "cell_type": "markdown",
   "id": "e1300c40-c2b3-4d9b-b4ab-550e865543d8",
   "metadata": {},
   "source": [
    "**Канальная матрица будет иметь следующий вид:**"
   ]
  },
  {
   "cell_type": "code",
   "execution_count": 3,
   "id": "64f52ad9-7931-4ca4-bc0d-9c5c1de54e4c",
   "metadata": {},
   "outputs": [
    {
     "name": "stdout",
     "output_type": "stream",
     "text": [
      "[[0.987, 0.0, 0.013, 0.0], [0.0, 0.98, 0.007, 0.013], [0.007, 0.0, 0.993, 0.0], [0.0, 0.02, 0.007, 0.973]]\n"
     ]
    }
   ],
   "source": [
    "def gen_matrix(m: dict, count):\n",
    "    keys = m.keys()\n",
    "    x = [m[i] for i in keys]\n",
    "    for i in range(len(x)):\n",
    "        for j in range(len(x[i])):\n",
    "            x[i][j] = round((x[i][j] / count), 3)\n",
    "    return x\n",
    "\n",
    "matrix = gen_matrix(s, count)\n",
    "print(matrix)"
   ]
  },
  {
   "cell_type": "code",
   "execution_count": null,
   "id": "04ec5b09-fa6e-4be6-be75-d40d8d6950b9",
   "metadata": {
    "jupyter": {
     "source_hidden": true
    }
   },
   "outputs": [],
   "source": [
    "## Вывод на экран\n",
    "from static import MD\n",
    "output = r\"$$P(a|b) = \" + MD.matrix(matrix) + r\"$$\"\n",
    "display(Markdown(output))"
   ]
  },
  {
   "cell_type": "markdown",
   "id": "5945b7ae-3d8c-45d2-9c9c-21419c38536a",
   "metadata": {},
   "source": [
    "#### **2.** Определим общую условную энтропию сообщений:"
   ]
  },
  {
   "cell_type": "markdown",
   "id": "b9d92b63-d9d6-499f-bae7-4f913c5df87f",
   "metadata": {},
   "source": [
    "$$H(B|A) = - \\sum_{i=1}^{m}\\sum_{j=1}^{m}p(a_i) \\cdot p(b_j|a_i) \\cdot \\log_2{ (p(b_j|a_i))}$$"
   ]
  },
  {
   "cell_type": "code",
   "execution_count": 4,
   "id": "c1144c68-8356-40ff-9cf1-54ee238aa153",
   "metadata": {},
   "outputs": [
    {
     "name": "stdout",
     "output_type": "stream",
     "text": [
      "0.121\n"
     ]
    }
   ],
   "source": [
    "from math import log2 as log\n",
    "\n",
    "def calculate_u_entropy(m: list[list], p: dict) -> list[list]:\n",
    "    H = 0\n",
    "    for i in range(len(m)):\n",
    "        first_part = ps[i+1]\n",
    "        second_part = 0\n",
    "        for j in range(len(m[i])):\n",
    "            if m[i][j] == 0:\n",
    "                continue\n",
    "            second_part += (m[i][j] * log(m[i][j]))\n",
    "        H += first_part * second_part\n",
    "    return H\n",
    "\n",
    "u_H = calculate_u_entropy(matrix, ps)\n",
    "print(u_H)"
   ]
  },
  {
   "cell_type": "code",
   "execution_count": null,
   "id": "22fd8b35-782b-4bfe-ada7-6b26fcc829c7",
   "metadata": {},
   "outputs": [],
   "source": [
    "## Вывод на экран\n",
    "from static import print_entropy\n",
    "output = f\"$${print_entropy(matrix, ps)}{str(round(u_H, 3))} \\\\space бит/символ.$$\"\n",
    "display(Markdown(output))"
   ]
  },
  {
   "cell_type": "markdown",
   "id": "5dc0cd8c-499b-4f96-9f51-9ec4710f950f",
   "metadata": {},
   "source": [
    "#### **3.** Определим энтропию принятых сообщений:"
   ]
  },
  {
   "cell_type": "markdown",
   "id": "76d5c4bc-ad3a-4377-85a6-2a63c1d3d411",
   "metadata": {},
   "source": [
    "$$H(B)=-\\sum_{j-1}^m p(b_j)\\cdot\\log_2(p(b_j))$$\n",
    "где $$p(b_j)=-\\sum_{i=1}^m p(a_i)p(b_j|a_i)$$; причём $$\\sum_{j=1}^m p(b_j)=1$$"
   ]
  },
  {
   "cell_type": "code",
   "execution_count": 7,
   "id": "cb55b6a0",
   "metadata": {},
   "outputs": [],
   "source": [
    "## Вычислим p(b_j)\n",
    "def calculate_pb(m: list[list], p: dict):\n",
    "    m = [list(row) for row in zip(*m)]\n",
    "    pb = []\n",
    "    for i in range(len(m)):\n",
    "        pbj = []\n",
    "        for j in range(len(m[i])):\n",
    "            if m[i][j] == 0:\n",
    "                continue\n",
    "            pbj.append(p[j+1] * m[i][j])\n",
    "        pb.append(sum(pbj))\n",
    "    return pb\n",
    "\n",
    "pb = calculate_pb(matrix, ps)"
   ]
  },
  {
   "cell_type": "code",
   "execution_count": null,
   "id": "d8248d92",
   "metadata": {},
   "outputs": [],
   "source": [
    "## Вывод на экран\n",
    "display(Markdown(MD.pb(matrix, ps, pb)))"
   ]
  },
  {
   "cell_type": "code",
   "execution_count": 9,
   "id": "a8ee2480",
   "metadata": {},
   "outputs": [],
   "source": [
    "## Вычислим энтропию принятых сообщений\n",
    "def calculate_accepted_entropy(pbj: list):\n",
    "    out = 0\n",
    "    for j in range(len(pbj)):\n",
    "        out += pbj[j] * log(pbj[j])\n",
    "    return -out\n",
    "\n",
    "a_H = calculate_accepted_entropy(pb)"
   ]
  },
  {
   "cell_type": "code",
   "execution_count": null,
   "id": "05ece048",
   "metadata": {},
   "outputs": [],
   "source": [
    "## Вывод на экран\n",
    "from static import print_accepted_entropy\n",
    "\n",
    "display(Markdown(f\"$${print_accepted_entropy(pb)} {str(round(a_H, 3))} \\\\spaceбит /символ$$\"))"
   ]
  },
  {
   "cell_type": "markdown",
   "id": "ef85eee2",
   "metadata": {},
   "source": [
    "#### **4.** Составим матрицу совместных вероятностей, определив для этого все совместные вероятности"
   ]
  },
  {
   "cell_type": "markdown",
   "id": "cae697ba",
   "metadata": {},
   "source": [
    "$$p(a_i, b_j) = p(a_i) \\cdot p(b_j|a_i)$$"
   ]
  },
  {
   "cell_type": "code",
   "execution_count": 11,
   "id": "f0475437",
   "metadata": {},
   "outputs": [],
   "source": [
    "## Вычислим матрицу совместных вероятностей\n",
    "def calculate_pm(m: list[list], ps: dict) -> list[list]:\n",
    "    out = []\n",
    "    for i in range(len(m)):\n",
    "        row = []\n",
    "        for j in range(len(m[i])):\n",
    "            row.append(ps[i+1] * m[i][j])\n",
    "        out.append(row)\n",
    "    return out\n",
    "\n",
    "p_matrix = calculate_pm(matrix, ps)"
   ]
  },
  {
   "cell_type": "code",
   "execution_count": null,
   "id": "a371d5e2",
   "metadata": {},
   "outputs": [],
   "source": [
    "## Вывод на экран\n",
    "display(Markdown(MD.pm(matrix, ps, p_matrix)))\n",
    "display(Markdown(f\"$$P(a,b) = {MD.matrix(p_matrix)}$$\"))"
   ]
  },
  {
   "cell_type": "markdown",
   "id": "8c4e9990",
   "metadata": {},
   "source": [
    "#### *5.* Определим энтропию объединения"
   ]
  },
  {
   "cell_type": "markdown",
   "id": "1d579720",
   "metadata": {},
   "source": [
    "$$H(A,B) = -\\sum_{i=1}^m \\sum_{j=1}^m p(a_i, b_j) \\cdot \\log_2(p(a_i, b_j))$$"
   ]
  },
  {
   "cell_type": "code",
   "execution_count": 13,
   "id": "77f38c2a",
   "metadata": {},
   "outputs": [],
   "source": [
    "def calculate_final_entropy(m: list[list]) -> list[list]:\n",
    "    H = 0\n",
    "    for i in range(len(m)):\n",
    "        for j in range(len(m[i])):\n",
    "            if m[i][j] == 0:\n",
    "                continue\n",
    "            H += (m[i][j] * log(m[i][j]))\n",
    "    return -H\n",
    "\n",
    "H = calculate_final_entropy(p_matrix)"
   ]
  },
  {
   "cell_type": "code",
   "execution_count": null,
   "id": "4b082ce0",
   "metadata": {},
   "outputs": [],
   "source": [
    "## Вывод на экран\n",
    "from static import print_final_entropy\n",
    "display(Markdown(f\"$${print_final_entropy(p_matrix)}{str(round(H, 4))}$$\"))"
   ]
  },
  {
   "cell_type": "markdown",
   "id": "bde367d0",
   "metadata": {},
   "source": [
    "#### **6.** Найдем информационные потери при передаче 500 символов"
   ]
  },
  {
   "cell_type": "markdown",
   "id": "0832738a",
   "metadata": {},
   "source": [
    "$$\\Delta I = n \\cdot H(A|B);$$\n",
    "$$H(A|B)=H(A,B)-H(B)$$"
   ]
  },
  {
   "cell_type": "code",
   "execution_count": 15,
   "id": "c8686d42",
   "metadata": {},
   "outputs": [],
   "source": [
    "H_a_b = H - a_H"
   ]
  },
  {
   "cell_type": "code",
   "execution_count": null,
   "id": "f9304575",
   "metadata": {},
   "outputs": [],
   "source": [
    "display(Markdown(f\"$$H(A|B) = {round(H, 4)} - {round(a_H, 4)} = {round(H_a_b, 4)} \\\\space бит/символ$$\"))"
   ]
  },
  {
   "cell_type": "code",
   "execution_count": 17,
   "id": "85194391",
   "metadata": {},
   "outputs": [],
   "source": [
    "count = 500\n",
    "delta_I = count * H_a_b "
   ]
  },
  {
   "cell_type": "code",
   "execution_count": null,
   "id": "a8c47257",
   "metadata": {},
   "outputs": [],
   "source": [
    "display(Markdown(f\"$$\\\\Delta I = {count} \\\\cdot {round(H_a_b, 4)} = {round(delta_I, 1)} \\\\space бит.$$\"))"
   ]
  },
  {
   "cell_type": "markdown",
   "id": "1843deaf",
   "metadata": {},
   "source": [
    "#### *7.* Найдём количество принятой информации"
   ]
  },
  {
   "cell_type": "markdown",
   "id": "b9c62df8",
   "metadata": {},
   "source": [
    "$$I=n \\cdot H(B) - \\Delta I$$"
   ]
  },
  {
   "cell_type": "code",
   "execution_count": 19,
   "id": "7fd618d3",
   "metadata": {},
   "outputs": [],
   "source": [
    "I = (count * a_H) - delta_I"
   ]
  },
  {
   "cell_type": "code",
   "execution_count": null,
   "id": "72c21190",
   "metadata": {},
   "outputs": [],
   "source": [
    "display(Markdown(f\"$$I = {count} \\\\cdot {round(a_H, 4)} - {round(delta_I, 1)} = {round(I,1)} \\\\space бит.$$\"))"
   ]
  }
 ],
 "metadata": {
  "kernelspec": {
   "display_name": "venv",
   "language": "python",
   "name": "python3"
  },
  "language_info": {
   "codemirror_mode": {
    "name": "ipython",
    "version": 3
   },
   "file_extension": ".py",
   "mimetype": "text/x-python",
   "name": "python",
   "nbconvert_exporter": "python",
   "pygments_lexer": "ipython3",
   "version": "3.12.6"
  }
 },
 "nbformat": 4,
 "nbformat_minor": 5
}
