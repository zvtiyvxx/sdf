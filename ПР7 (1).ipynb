{
 "cells": [
  {
   "cell_type": "markdown",
   "id": "6230c486-bf83-40cd-9066-633db0fb4877",
   "metadata": {},
   "source": [
    "# ПРАКТИЧЕСКАЯ РАБОТА № 7.\n",
    "## Расчет пропускной способности дискретного канала связи с помехами\n",
    "---\n",
    "**Вариант 8**"
   ]
  },
  {
   "cell_type": "markdown",
   "id": "62f06460-f7e5-49f1-8fbb-cf08039a79a8",
   "metadata": {},
   "source": [
    "**Цель работы:** приобрести умение рассчитывать пропускную способность дискретного симметричного канала связи при наличии помех."
   ]
  },
  {
   "cell_type": "markdown",
   "id": "a412c6b7-c3da-4caa-a473-2342875b0265",
   "metadata": {},
   "source": [
    "## Ход работы\n",
    "---"
   ]
  },
  {
   "cell_type": "markdown",
   "id": "12ff0dae",
   "metadata": {},
   "source": [
    "- **1. Зададим начальные значения**"
   ]
  },
  {
   "cell_type": "code",
   "execution_count": 1,
   "id": "6cddbeb8",
   "metadata": {},
   "outputs": [],
   "source": [
    "pa = {\n",
    "    1: 0.24,\n",
    "    2: 0.27,\n",
    "    3: 0.16,\n",
    "    4: 0.33\n",
    "}\n",
    "\n",
    "matrix_P_ba = [\n",
    "    [0.97, 0.02, 0.01, 0],\n",
    "    [0.02, 0.98, 0, 0],\n",
    "    [0, 0.02, 0.95, 0.03],\n",
    "    [0, 0, 0.01, 0.99],\n",
    "]\n",
    "\n",
    "time_for_signal = 0.01"
   ]
  },
  {
   "cell_type": "code",
   "execution_count": 2,
   "id": "a1c440d5-1867-45ef-adfe-fea17abbd9de",
   "metadata": {},
   "outputs": [
    {
     "data": {
      "text/markdown": [
       "\n",
       "Пусть требуется определить пропускную способность канала связи для двух систем **А** *(источник)* и **В** *(получатель)*, \n",
       "если известны вероятности появления символов в сообщениях на выходе системы A: $p(a_1)=0.24$; $p(a_2)=0.27$; $p(a_3)=0.16$; $p(a_4)=0.33$ и матрица условных\n",
       "вероятностей: $$\\begin{bmatrix} 0.97 & 0.02 & 0.01 & 0 \\\\ 0.02 & 0.98 & 0 & 0 \\\\ 0 & 0.02 & 0.95 & 0.03 \\\\ 0 & 0 & 0.01 & 0.99 \\end{bmatrix}$$ Также известно, что каждый символ сообщений вырабатывается за 0,01 сек.\n"
      ],
      "text/plain": [
       "<IPython.core.display.Markdown object>"
      ]
     },
     "metadata": {},
     "output_type": "display_data"
    }
   ],
   "source": [
    "from IPython.display import display, Markdown\n",
    "from static import MD\n",
    "\n",
    "## Вывод на экран\n",
    "output = f\"\"\"\n",
    "Пусть требуется определить пропускную способность канала связи для двух систем **А** *(источник)* и **В** *(получатель)*, \n",
    "если известны вероятности появления символов в сообщениях на выходе системы A: {MD.gen_pa(pa)} и матрица условных\n",
    "вероятностей: $${MD.matrix(matrix_P_ba)}$$ Также известно, что каждый символ сообщений вырабатывается за 0,01 сек.\n",
    "\"\"\"\n",
    "\n",
    "display(Markdown(output))"
   ]
  },
  {
   "cell_type": "markdown",
   "id": "a2c6505d",
   "metadata": {},
   "source": [
    "- **2.** Найдем значения совместных вероятностей и построим матрицу совместных вероятностей для объединенной системы:"
   ]
  },
  {
   "cell_type": "code",
   "execution_count": 3,
   "id": "1b5bcc66-3860-4468-acd7-f36ab0dd13fc",
   "metadata": {},
   "outputs": [],
   "source": [
    "def gen_matrix_of_unified_system(default_matrix: list[list], p: dict) -> list[list]:\n",
    "    matrix = [list(row) for row in zip(*default_matrix)]\n",
    "    for i in range(len(matrix)):\n",
    "        for j in range(len(matrix)):\n",
    "            matrix[i][j] = matrix[i][j] * p[j+1]\n",
    "    return [list(row) for row in zip(*matrix)]\n",
    "\n",
    "matrix_P_ab_unified = gen_matrix_of_unified_system(matrix_P_ba, pa)"
   ]
  },
  {
   "cell_type": "code",
   "execution_count": 4,
   "id": "88906b37-2916-4918-91de-8ac6580a2dcc",
   "metadata": {},
   "outputs": [
    {
     "data": {
      "text/markdown": [
       "$$\\begin{array}{lcl}p(a_1, b_1) = p(a_1) \\cdot p(a_1|b_1) = 0.24 \\cdot 0.97 = 0.2328\\\\p(a_1, b_2) = p(a_2) \\cdot p(a_1|b_2) = 0.27 \\cdot 0.02 = 0.0054\\\\p(a_1, b_3) = p(a_3) \\cdot p(a_1|b_3) = 0.16 \\cdot 0 = 0.0\\\\p(a_1, b_4) = p(a_4) \\cdot p(a_1|b_4) = 0.33 \\cdot 0 = 0.0\\\\p(a_2, b_1) = p(a_1) \\cdot p(a_2|b_1) = 0.24 \\cdot 0.02 = 0.0048\\\\p(a_2, b_2) = p(a_2) \\cdot p(a_2|b_2) = 0.27 \\cdot 0.98 = 0.2646\\\\p(a_2, b_3) = p(a_3) \\cdot p(a_2|b_3) = 0.16 \\cdot 0.02 = 0.0032\\\\p(a_2, b_4) = p(a_4) \\cdot p(a_2|b_4) = 0.33 \\cdot 0 = 0.0\\\\p(a_3, b_1) = p(a_1) \\cdot p(a_3|b_1) = 0.24 \\cdot 0.01 = 0.0024\\\\p(a_3, b_2) = p(a_2) \\cdot p(a_3|b_2) = 0.27 \\cdot 0 = 0.0\\\\p(a_3, b_3) = p(a_3) \\cdot p(a_3|b_3) = 0.16 \\cdot 0.95 = 0.152\\\\p(a_3, b_4) = p(a_4) \\cdot p(a_3|b_4) = 0.33 \\cdot 0.01 = 0.0033\\\\p(a_4, b_1) = p(a_1) \\cdot p(a_4|b_1) = 0.24 \\cdot 0 = 0.0\\\\p(a_4, b_2) = p(a_2) \\cdot p(a_4|b_2) = 0.27 \\cdot 0 = 0.0\\\\p(a_4, b_3) = p(a_3) \\cdot p(a_4|b_3) = 0.16 \\cdot 0.03 = 0.0048\\\\p(a_4, b_4) = p(a_4) \\cdot p(a_4|b_4) = 0.33 \\cdot 0.99 = 0.3267\\end{array}$$"
      ],
      "text/plain": [
       "<IPython.core.display.Markdown object>"
      ]
     },
     "metadata": {},
     "output_type": "display_data"
    },
    {
     "data": {
      "text/markdown": [
       "$$\\begin{bmatrix} 0.2328 & 0.0048 & 0.0024 & 0.0 \\\\ 0.0054 & 0.2646 & 0.0 & 0.0 \\\\ 0.0 & 0.0032 & 0.152 & 0.0048 \\\\ 0.0 & 0.0 & 0.0033 & 0.3267 \\end{bmatrix}$$"
      ],
      "text/plain": [
       "<IPython.core.display.Markdown object>"
      ]
     },
     "metadata": {},
     "output_type": "display_data"
    }
   ],
   "source": [
    "## Вывод на экран\n",
    "display(Markdown(f\"{MD.unified_matrix_ab(matrix_P_ba, pa, matrix_P_ab_unified)}\"))\n",
    "display(Markdown(f\"$${MD.matrix(matrix_P_ab_unified)}$$\"))"
   ]
  },
  {
   "cell_type": "markdown",
   "id": "01c24194",
   "metadata": {},
   "source": [
    "- **3.** Найдем вероятности появления сигналов на входе системы **В** суммированием столбцов полученной матрицы"
   ]
  },
  {
   "cell_type": "code",
   "execution_count": 5,
   "id": "d2f24934",
   "metadata": {},
   "outputs": [],
   "source": [
    "def calc_pb(matrix: list[list]) -> dict:\n",
    "    matrix = [list(row) for row in zip(*matrix)]\n",
    "    p = {}\n",
    "    for i in range(len(matrix)):\n",
    "        p[i+1] = sum(matrix[i])\n",
    "    return p\n",
    "\n",
    "pb = calc_pb(matrix_P_ab_unified)"
   ]
  },
  {
   "cell_type": "code",
   "execution_count": 6,
   "id": "d4a3ffcd",
   "metadata": {},
   "outputs": [
    {
     "data": {
      "text/markdown": [
       "$$\\begin{array}{lcl}p(b_1) = 0.2328 +0.0054 = 0.2382\\\\p(b_2) = 0.0048 +0.2646 +0.0032 = 0.2726\\\\p(b_3) = 0.0024 +0.152 +0.0033 = 0.1577\\\\p(b_4) = 0.0048 +0.3267 = 0.3315\\end{array}$$\n",
       "\n",
       "$$\\sum_{i=1}^m p(b_i) = 0.2382 + 0.2726 + 0.1577 + 0.3315 = 1.0$$"
      ],
      "text/plain": [
       "<IPython.core.display.Markdown object>"
      ]
     },
     "metadata": {},
     "output_type": "display_data"
    }
   ],
   "source": [
    "## Вывод на экран\n",
    "display(Markdown(MD.gen_pb(matrix_P_ab_unified, pb)))"
   ]
  },
  {
   "cell_type": "markdown",
   "id": "ac5871ee",
   "metadata": {},
   "source": [
    "- **4.** Найдем условные вероятности вида **p(a|b)** и построим соответствующую матрицу условных вероятностей:"
   ]
  },
  {
   "cell_type": "code",
   "execution_count": 7,
   "id": "135c6ec7",
   "metadata": {},
   "outputs": [],
   "source": [
    "def gen_matrix_pab(default_matrix: list[list], p: dict) -> list[list]:\n",
    "    matrix = [list(row) for row in zip(*default_matrix)]\n",
    "    for i in range(len(matrix)):\n",
    "        for j in range(len(matrix)):\n",
    "            matrix[i][j] = matrix[i][j] / p[j+1]\n",
    "    return [list(row) for row in zip(*matrix)]\n",
    "\n",
    "matrix_P_ab = gen_matrix_pab(matrix_P_ab_unified, pb)"
   ]
  },
  {
   "cell_type": "code",
   "execution_count": 8,
   "id": "985f8ad8",
   "metadata": {},
   "outputs": [
    {
     "data": {
      "text/markdown": [
       "$$\\begin{array}{lcl}p(a_1, b_1) = \\frac{p(a_1|b_1)}{p(a_1)} = \\frac{0.2328}{0.2382} = 0.9773\\\\p(a_1, b_2) = \\frac{p(a_1|b_2)}{p(a_2)} = \\frac{0.0054}{0.2726} = 0.0198\\\\p(a_1, b_3) = \\frac{p(a_1|b_3)}{p(a_3)} = \\frac{0.0}{0.1577} = 0.0\\\\p(a_1, b_4) = \\frac{p(a_1|b_4)}{p(a_4)} = \\frac{0.0}{0.3315} = 0.0\\\\p(a_2, b_1) = \\frac{p(a_2|b_1)}{p(a_1)} = \\frac{0.0048}{0.2382} = 0.0202\\\\p(a_2, b_2) = \\frac{p(a_2|b_2)}{p(a_2)} = \\frac{0.2646}{0.2726} = 0.9707\\\\p(a_2, b_3) = \\frac{p(a_2|b_3)}{p(a_3)} = \\frac{0.0032}{0.1577} = 0.0203\\\\p(a_2, b_4) = \\frac{p(a_2|b_4)}{p(a_4)} = \\frac{0.0}{0.3315} = 0.0\\\\p(a_3, b_1) = \\frac{p(a_3|b_1)}{p(a_1)} = \\frac{0.0024}{0.2382} = 0.0101\\\\p(a_3, b_2) = \\frac{p(a_3|b_2)}{p(a_2)} = \\frac{0.0}{0.2726} = 0.0\\\\p(a_3, b_3) = \\frac{p(a_3|b_3)}{p(a_3)} = \\frac{0.152}{0.1577} = 0.9639\\\\p(a_3, b_4) = \\frac{p(a_3|b_4)}{p(a_4)} = \\frac{0.0033}{0.3315} = 0.01\\\\p(a_4, b_1) = \\frac{p(a_4|b_1)}{p(a_1)} = \\frac{0.0}{0.2382} = 0.0\\\\p(a_4, b_2) = \\frac{p(a_4|b_2)}{p(a_2)} = \\frac{0.0}{0.2726} = 0.0\\\\p(a_4, b_3) = \\frac{p(a_4|b_3)}{p(a_3)} = \\frac{0.0048}{0.1577} = 0.0304\\\\p(a_4, b_4) = \\frac{p(a_4|b_4)}{p(a_4)} = \\frac{0.3267}{0.3315} = 0.9855\\end{array}$$"
      ],
      "text/plain": [
       "<IPython.core.display.Markdown object>"
      ]
     },
     "metadata": {},
     "output_type": "display_data"
    },
    {
     "data": {
      "text/markdown": [
       "\\begin{bmatrix} 0.9773 & 0.0202 & 0.0101 & 0.0 \\\\ 0.0198 & 0.9707 & 0.0 & 0.0 \\\\ 0.0 & 0.0203 & 0.9639 & 0.0304 \\\\ 0.0 & 0.0 & 0.01 & 0.9855 \\end{bmatrix}"
      ],
      "text/plain": [
       "<IPython.core.display.Markdown object>"
      ]
     },
     "metadata": {},
     "output_type": "display_data"
    }
   ],
   "source": [
    "## Вывод на экран\n",
    "display(Markdown(MD.matrix_ab(matrix_P_ab_unified, pb, matrix_P_ab)))\n",
    "display(Markdown(MD.matrix(matrix_P_ab)))"
   ]
  },
  {
   "cell_type": "markdown",
   "id": "c6fe5a47",
   "metadata": {},
   "source": [
    "- **5.** Найдём безусловные энтропии источника и получателя сообщений"
   ]
  },
  {
   "cell_type": "markdown",
   "id": "1e7592c8",
   "metadata": {},
   "source": [
    "$$H(X)=-\\sum_{i=1}^nP(x_i) \\cdot \\log_2(P(x_i))$$"
   ]
  },
  {
   "cell_type": "code",
   "execution_count": 9,
   "id": "19649509",
   "metadata": {},
   "outputs": [],
   "source": [
    "from math import log2 as log\n",
    "\n",
    "def absolute_entropy(v: dict) -> float:\n",
    "    values = list(v.values())\n",
    "    logs = tuple(map(lambda value: log(value), values))\n",
    "    for i in range(len(values)):\n",
    "        values[i] = values[i] * logs[i]\n",
    "    return -sum(values)\n",
    "\n",
    "H_A = absolute_entropy(pa)\n",
    "H_B = absolute_entropy(pb)"
   ]
  },
  {
   "cell_type": "code",
   "execution_count": 10,
   "id": "8ef631f2",
   "metadata": {},
   "outputs": [
    {
     "data": {
      "text/markdown": [
       "$$H(A)=-(p(a_1) \\cdot \\log_2(p(a_1)) + p(a_2) \\cdot \\log_2(p(a_2)) + p(a_3) \\cdot \\log_2(p(a_3)) + p(a_4) \\cdot \\log_2(p(a_4))) = -(0.24 \\cdot \\log_2(0.24) + 0.27 \\cdot \\log_2(0.27) + 0.16 \\cdot \\log_2(0.16) + 0.33 \\cdot \\log_2(0.33)) = -(0.24 \\cdot -2.0589 + 0.27 \\cdot -1.889 + 0.16 \\cdot -2.6439 + 0.33 \\cdot -1.5995) = -((-0.4941) + (-0.51) + (-0.423) + (-0.5278)) = 1.955"
      ],
      "text/plain": [
       "<IPython.core.display.Markdown object>"
      ]
     },
     "metadata": {},
     "output_type": "display_data"
    },
    {
     "data": {
      "text/markdown": [
       "$$H(B)=-(p(b_1) \\cdot \\log_2(p(b_1)) + p(b_2) \\cdot \\log_2(p(b_2)) + p(b_3) \\cdot \\log_2(p(b_3)) + p(b_4) \\cdot \\log_2(p(b_4))) = -(0.2382 \\cdot \\log_2(0.2382) + 0.2726 \\cdot \\log_2(0.2726) + 0.1577 \\cdot \\log_2(0.1577) + 0.3315 \\cdot \\log_2(0.3315)) = -(0.2382 \\cdot -2.0698 + 0.2726 \\cdot -1.8751 + 0.1577 \\cdot -2.6647 + 0.3315 \\cdot -1.5929) = -((-0.493) + (-0.5112) + (-0.4202) + (-0.5281)) = 1.9525"
      ],
      "text/plain": [
       "<IPython.core.display.Markdown object>"
      ]
     },
     "metadata": {},
     "output_type": "display_data"
    }
   ],
   "source": [
    "## Вывод на экран\n",
    "display(Markdown(MD.absolute_entropy(pa, H_A, 'a')))\n",
    "display(Markdown(MD.absolute_entropy(pb, H_B, 'b')))"
   ]
  },
  {
   "cell_type": "markdown",
   "id": "d073b378",
   "metadata": {},
   "source": [
    "- **6.** Найдём условные энтропии"
   ]
  },
  {
   "cell_type": "markdown",
   "id": "0ac0f599",
   "metadata": {},
   "source": [
    "$$H(A|B)=-\\sum_{i=1}^m \\sum_{j=1}^m p(b_i) \\cdot p(a_i|b_j) \\cdot \\log_2(p(a_i|b_j))$$\n",
    "\n",
    "\n",
    "$$H(B|A)=-\\sum_{i=1}^m \\sum_{j=1}^m p(a_i) \\cdot p(b_i|a_j) \\cdot \\log_2(p(a_i|a_j))$$"
   ]
  },
  {
   "cell_type": "code",
   "execution_count": 11,
   "id": "ea1ebf2d",
   "metadata": {},
   "outputs": [],
   "source": [
    "def cond_entropy(matrix: list[list], v: dict) -> float:\n",
    "    H = 0\n",
    "    for i in range(len(matrix)):\n",
    "        first = v[i+1]\n",
    "        second = 0\n",
    "        for j in range(len(matrix[i])):\n",
    "            if matrix[i][j] == 0:\n",
    "                continue\n",
    "            second += (matrix[i][j] * log(matrix[i][j]))\n",
    "        H += first * second\n",
    "    return -H\n",
    "\n",
    "H_ab = cond_entropy(matrix_P_ab, pb)\n",
    "H_ba = cond_entropy(matrix_P_ba, pa)"
   ]
  },
  {
   "cell_type": "code",
   "execution_count": 12,
   "id": "fc36f6fa",
   "metadata": {},
   "outputs": [
    {
     "data": {
      "text/markdown": [
       "$$H(A|B)=-(p(b_1) \\cdot p(a_1|b_1) \\cdot \\log(p(a_1|b_1)) + p(b_1) \\cdot p(a_1|b_2) \\cdot \\log(p(a_1|b_2)) + p(b_1) \\cdot p(a_1|b_3) \\cdot \\log(p(a_1|b_3)) + p(b_2) \\cdot p(a_2|b_1) \\cdot \\log(p(a_2|b_1)) + p(b_2) \\cdot p(a_2|b_2) \\cdot \\log(p(a_2|b_2)) + p(b_3) \\cdot p(a_3|b_2) \\cdot \\log(p(a_3|b_2)) + p(b_3) \\cdot p(a_3|b_3) \\cdot \\log(p(a_3|b_3)) + p(b_3) \\cdot p(a_3|b_4) \\cdot \\log(p(a_3|b_4)) + p(b_4) \\cdot p(a_4|b_3) \\cdot \\log(p(a_4|b_3)) + p(b_4) \\cdot p(a_4|b_4) \\cdot \\log(p(a_4|b_4))) = -(0.2382 \\cdot 0.9773 \\cdot \\log(0.9773) + 0.2382 \\cdot 0.0202 \\cdot \\log(0.0202) + 0.2382 \\cdot 0.0101 \\cdot \\log(0.0101) + 0.2726 \\cdot 0.0198 \\cdot \\log(0.0198) + 0.2726 \\cdot 0.9707 \\cdot \\log(0.9707) + 0.1577 \\cdot 0.0203 \\cdot \\log(0.0203) + 0.1577 \\cdot 0.9639 \\cdot \\log(0.9639) + 0.1577 \\cdot 0.0304 \\cdot \\log(0.0304) + 0.3315 \\cdot 0.01 \\cdot \\log(0.01) + 0.3315 \\cdot 0.9855 \\cdot \\log(0.9855)) = -(0.2382 \\cdot 0.9773 \\cdot -0.0331 + 0.2382 \\cdot 0.0202 \\cdot -5.633 + 0.2382 \\cdot 0.0101 \\cdot -6.633 + 0.2726 \\cdot 0.0198 \\cdot -5.6577 + 0.2726 \\cdot 0.9707 \\cdot -0.043 + 0.1577 \\cdot 0.0203 \\cdot -5.623 + 0.1577 \\cdot 0.9639 \\cdot -0.0531 + 0.1577 \\cdot 0.0304 \\cdot -5.038 + 0.3315 \\cdot 0.01 \\cdot -6.6504 + 0.3315 \\cdot 0.9855 \\cdot -0.021) = -((-0.0077) + (-0.027) + (-0.0159) + (-0.0306) + (-0.0114) + (-0.018) + (-0.0081) + (-0.0242) + (-0.0219) + (-0.0069))=0.17165$$"
      ],
      "text/plain": [
       "<IPython.core.display.Markdown object>"
      ]
     },
     "metadata": {},
     "output_type": "display_data"
    },
    {
     "data": {
      "text/markdown": [
       "$$H(B|A)=-(p(a_1) \\cdot p(b_1|a_1) \\cdot \\log(p(b_1|a_1)) + p(a_1) \\cdot p(b_1|a_2) \\cdot \\log(p(b_1|a_2)) + p(a_1) \\cdot p(b_1|a_3) \\cdot \\log(p(b_1|a_3)) + p(a_2) \\cdot p(b_2|a_1) \\cdot \\log(p(b_2|a_1)) + p(a_2) \\cdot p(b_2|a_2) \\cdot \\log(p(b_2|a_2)) + p(a_3) \\cdot p(b_3|a_2) \\cdot \\log(p(b_3|a_2)) + p(a_3) \\cdot p(b_3|a_3) \\cdot \\log(p(b_3|a_3)) + p(a_3) \\cdot p(b_3|a_4) \\cdot \\log(p(b_3|a_4)) + p(a_4) \\cdot p(b_4|a_3) \\cdot \\log(p(b_4|a_3)) + p(a_4) \\cdot p(b_4|a_4) \\cdot \\log(p(b_4|a_4))) = -(0.24 \\cdot 0.97 \\cdot \\log(0.97) + 0.24 \\cdot 0.02 \\cdot \\log(0.02) + 0.24 \\cdot 0.01 \\cdot \\log(0.01) + 0.27 \\cdot 0.02 \\cdot \\log(0.02) + 0.27 \\cdot 0.98 \\cdot \\log(0.98) + 0.16 \\cdot 0.02 \\cdot \\log(0.02) + 0.16 \\cdot 0.95 \\cdot \\log(0.95) + 0.16 \\cdot 0.03 \\cdot \\log(0.03) + 0.33 \\cdot 0.01 \\cdot \\log(0.01) + 0.33 \\cdot 0.99 \\cdot \\log(0.99)) = -(0.24 \\cdot 0.97 \\cdot -0.0439 + 0.24 \\cdot 0.02 \\cdot -5.6439 + 0.24 \\cdot 0.01 \\cdot -6.6439 + 0.27 \\cdot 0.02 \\cdot -5.6439 + 0.27 \\cdot 0.98 \\cdot -0.0291 + 0.16 \\cdot 0.02 \\cdot -5.6439 + 0.16 \\cdot 0.95 \\cdot -0.074 + 0.16 \\cdot 0.03 \\cdot -5.0589 + 0.33 \\cdot 0.01 \\cdot -6.6439 + 0.33 \\cdot 0.99 \\cdot -0.0145) = -((-0.0102) + (-0.0271) + (-0.0159) + (-0.0305) + (-0.0077) + (-0.0181) + (-0.0112) + (-0.0243) + (-0.0219) + (-0.0047))=0.17171$$"
      ],
      "text/plain": [
       "<IPython.core.display.Markdown object>"
      ]
     },
     "metadata": {},
     "output_type": "display_data"
    }
   ],
   "source": [
    "## Вывод на эран\n",
    "display(Markdown(MD.cond_entropy(matrix_P_ab, pb, H_ab, ('a', 'b'))))\n",
    "display(Markdown(MD.cond_entropy(matrix_P_ba, pa, H_ba, ('b', 'a'))))"
   ]
  },
  {
   "cell_type": "markdown",
   "id": "e323bfc5",
   "metadata": {},
   "source": [
    "- **7.** Найдём пропускную способность каналов связи "
   ]
  },
  {
   "cell_type": "markdown",
   "id": "c1585c58",
   "metadata": {},
   "source": [
    "$$C(A) = n \\cdot (H(A) - H(A|B))$$ \n",
    "$$C(B) = n \\cdot (H(B) - H(B|A))$$"
   ]
  },
  {
   "cell_type": "code",
   "execution_count": 13,
   "id": "f5c9ae9a",
   "metadata": {},
   "outputs": [],
   "source": [
    "def bandwitch(absolute: float, cond: float, n: int) -> float:\n",
    "    return n * (absolute - cond)\n",
    "\n",
    "ca = bandwitch(H_A, H_ab, 100)\n",
    "cb = bandwitch(H_B, H_ba, 100)"
   ]
  },
  {
   "cell_type": "code",
   "execution_count": 14,
   "id": "ed10dc93",
   "metadata": {},
   "outputs": [
    {
     "data": {
      "text/markdown": [
       "$$C(A) = n \\cdot (H(A) - H(A|B)) = 100 \\cdot (1.955 - 0.17165) = 178.33$$"
      ],
      "text/plain": [
       "<IPython.core.display.Markdown object>"
      ]
     },
     "metadata": {},
     "output_type": "display_data"
    },
    {
     "data": {
      "text/markdown": [
       "$$C(B) = n \\cdot (H(B) - H(B|A)) = 100 \\cdot (1.95246 - 0.17171) = 178.08$$"
      ],
      "text/plain": [
       "<IPython.core.display.Markdown object>"
      ]
     },
     "metadata": {},
     "output_type": "display_data"
    }
   ],
   "source": [
    "## Вывод на экран\n",
    "display(Markdown(MD.bandwitch(H_A, H_ab, 100, ca, ('A', 'B'))))\n",
    "display(Markdown(MD.bandwitch(H_B, H_ba, 100, cb, ('B', 'A'))))"
   ]
  },
  {
   "cell_type": "code",
   "execution_count": null,
   "id": "14a96c5e",
   "metadata": {},
   "outputs": [],
   "source": []
  }
 ],
 "metadata": {
  "kernelspec": {
   "display_name": "Python 3 (ipykernel)",
   "language": "python",
   "name": "python3"
  },
  "language_info": {
   "codemirror_mode": {
    "name": "ipython",
    "version": 3
   },
   "file_extension": ".py",
   "mimetype": "text/x-python",
   "name": "python",
   "nbconvert_exporter": "python",
   "pygments_lexer": "ipython3",
   "version": "3.12.7"
  }
 },
 "nbformat": 4,
 "nbformat_minor": 5
}
